{
  "nbformat": 4,
  "nbformat_minor": 0,
  "metadata": {
    "colab": {
      "name": "0530.ipynb",
      "provenance": [],
      "authorship_tag": "ABX9TyObsEj9tOvFGY/EhbdIcvqD",
      "include_colab_link": true
    },
    "kernelspec": {
      "name": "python3",
      "display_name": "Python 3"
    },
    "language_info": {
      "name": "python"
    }
  },
  "cells": [
    {
      "cell_type": "markdown",
      "metadata": {
        "id": "view-in-github",
        "colab_type": "text"
      },
      "source": [
        "<a href=\"https://colab.research.google.com/github/410568108/Introduction-to-Computers/blob/main/0530.ipynb\" target=\"_parent\"><img src=\"https://colab.research.google.com/assets/colab-badge.svg\" alt=\"Open In Colab\"/></a>"
      ]
    },
    {
      "cell_type": "code",
      "source": [
        "for i in range(2,10):\n",
        "  for j in range(1,10):\n",
        "    product=i*j\n",
        "    print(\"%d*%d=%2d   \" % (i,j,product),end=\"\")\n",
        "  print()"
      ],
      "metadata": {
        "colab": {
          "base_uri": "https://localhost:8080/"
        },
        "id": "lZEzphsHCbgX",
        "outputId": "457b65a7-84ed-4beb-d691-2875fb005a9c"
      },
      "execution_count": 3,
      "outputs": [
        {
          "output_type": "stream",
          "name": "stdout",
          "text": [
            "2*1= 2   2*2= 4   2*3= 6   2*4= 8   2*5=10   2*6=12   2*7=14   2*8=16   2*9=18   \n",
            "3*1= 3   3*2= 6   3*3= 9   3*4=12   3*5=15   3*6=18   3*7=21   3*8=24   3*9=27   \n",
            "4*1= 4   4*2= 8   4*3=12   4*4=16   4*5=20   4*6=24   4*7=28   4*8=32   4*9=36   \n",
            "5*1= 5   5*2=10   5*3=15   5*4=20   5*5=25   5*6=30   5*7=35   5*8=40   5*9=45   \n",
            "6*1= 6   6*2=12   6*3=18   6*4=24   6*5=30   6*6=36   6*7=42   6*8=48   6*9=54   \n",
            "7*1= 7   7*2=14   7*3=21   7*4=28   7*5=35   7*6=42   7*7=49   7*8=56   7*9=63   \n",
            "8*1= 8   8*2=16   8*3=24   8*4=32   8*5=40   8*6=48   8*7=56   8*8=64   8*9=72   \n",
            "9*1= 9   9*2=18   9*3=27   9*4=36   9*5=45   9*6=54   9*7=63   9*8=72   9*9=81   \n"
          ]
        }
      ]
    },
    {
      "cell_type": "code",
      "source": [
        "a=int(input(\"請輸入a的值:\"))\n",
        "b=int(input(\"請輸入b的值:\"))\n",
        "maxno=a*b\n",
        "for i in range(1,maxno+1):\n",
        "  if (i%a==0 and i%b==0):\n",
        "    break\n",
        "print(\"%d和%d的最小公倍數=%d\"%(a,b,i))"
      ],
      "metadata": {
        "colab": {
          "base_uri": "https://localhost:8080/"
        },
        "id": "Va8C6kG5EHF5",
        "outputId": "01b5d490-ffab-4fda-b16d-3f0e1adfa877"
      },
      "execution_count": 5,
      "outputs": [
        {
          "output_type": "stream",
          "name": "stdout",
          "text": [
            "請輸入a的值:4\n",
            "請輸入b的值:6\n",
            "4和6的最小公倍數=12\n"
          ]
        }
      ]
    },
    {
      "cell_type": "code",
      "source": [
        "t=int(input(\"請輸入一個正整數:\"))\n",
        "for n in range(1,t+1):\n",
        "  if (n%5==0):\n",
        "    continue\n",
        "  print(n,end=\" \")"
      ],
      "metadata": {
        "colab": {
          "base_uri": "https://localhost:8080/"
        },
        "id": "Mamzj4ueGZ1W",
        "outputId": "2b0984a9-f2c7-4b8a-dd74-8842faaa4ac2"
      },
      "execution_count": 6,
      "outputs": [
        {
          "output_type": "stream",
          "name": "stdout",
          "text": [
            "請輸入一個正整數:21\n",
            "1 2 3 4 6 7 8 9 11 12 13 14 16 17 18 19 21 "
          ]
        }
      ]
    },
    {
      "cell_type": "code",
      "source": [
        "total=n=0\n",
        "while(n<=10):\n",
        "  total += n\n",
        "  n+=1\n",
        "print(total)"
      ],
      "metadata": {
        "colab": {
          "base_uri": "https://localhost:8080/"
        },
        "id": "_Kd4r2bFGzfg",
        "outputId": "95eacbd8-eb43-449f-a16b-684f1273c366"
      },
      "execution_count": 9,
      "outputs": [
        {
          "output_type": "stream",
          "name": "stdout",
          "text": [
            "55\n"
          ]
        }
      ]
    },
    {
      "cell_type": "code",
      "source": [
        "total=n=0\n",
        "while n<=10:\n",
        "  total += n\n",
        "  n+=1\n",
        "print(total)"
      ],
      "metadata": {
        "colab": {
          "base_uri": "https://localhost:8080/"
        },
        "id": "ExErRr6gI6l9",
        "outputId": "3f9177ef-0bfb-41f1-94a1-866fdca58c90"
      },
      "execution_count": 10,
      "outputs": [
        {
          "output_type": "stream",
          "name": "stdout",
          "text": [
            "55\n"
          ]
        }
      ]
    },
    {
      "cell_type": "code",
      "source": [
        "total=n=1\n",
        "b=int(input(\"請輸入b的值:\"))\n",
        "while n<=b:\n",
        "  total *= n\n",
        "  n+=1\n",
        "print(\"%d!=%d\"%(b,total))"
      ],
      "metadata": {
        "colab": {
          "base_uri": "https://localhost:8080/"
        },
        "id": "5zd4KjLYJGax",
        "outputId": "01a47e9d-75ca-4741-f630-5979e55e275a"
      },
      "execution_count": 16,
      "outputs": [
        {
          "output_type": "stream",
          "name": "stdout",
          "text": [
            "請輸入b的值:6\n",
            "6!=720\n"
          ]
        }
      ]
    },
    {
      "cell_type": "code",
      "source": [
        "total=n=0\n",
        "while(n<=50):\n",
        "  total += n\n",
        "  n+=2\n",
        "print(total)"
      ],
      "metadata": {
        "colab": {
          "base_uri": "https://localhost:8080/"
        },
        "id": "JHK1IHKnMUXG",
        "outputId": "f7ab9b20-5c2b-4eae-89e8-8c645bf49b18"
      },
      "execution_count": 17,
      "outputs": [
        {
          "output_type": "stream",
          "name": "stdout",
          "text": [
            "650\n"
          ]
        }
      ]
    },
    {
      "cell_type": "code",
      "source": [
        "total=0\n",
        "i=1\n",
        "while(i<50):\n",
        "  total += i\n",
        "  i+=2\n",
        "print(total)"
      ],
      "metadata": {
        "colab": {
          "base_uri": "https://localhost:8080/"
        },
        "id": "nkYWmDs3MsFJ",
        "outputId": "ada15574-983b-42bf-deae-8aaf25f646ba"
      },
      "execution_count": 30,
      "outputs": [
        {
          "output_type": "stream",
          "name": "stdout",
          "text": [
            "625\n"
          ]
        }
      ]
    },
    {
      "cell_type": "code",
      "source": [
        "n=int(input(\"請輸入正整數:\"))\n",
        "for i in range(n,0,-1):\n",
        "  for j in range(i,0,-1):\n",
        "    print(\"*\",end=\"\")\n",
        "  print()"
      ],
      "metadata": {
        "colab": {
          "base_uri": "https://localhost:8080/"
        },
        "id": "lDZwoIACOzSM",
        "outputId": "40e4f3de-51ad-4318-b745-1aef197a9a78"
      },
      "execution_count": 32,
      "outputs": [
        {
          "output_type": "stream",
          "name": "stdout",
          "text": [
            "請輸入正整數:7\n",
            "*******\n",
            "******\n",
            "*****\n",
            "****\n",
            "***\n",
            "**\n",
            "*\n"
          ]
        }
      ]
    },
    {
      "cell_type": "code",
      "source": [
        "n=0\n",
        "for i in range(1,101):\n",
        "  if i%3==0 or i%7==0:\n",
        "    n+=i\n",
        "print(\"數值1~100中,所有是3或7倍數的數之總和=\"+str(n))"
      ],
      "metadata": {
        "colab": {
          "base_uri": "https://localhost:8080/"
        },
        "id": "N3ZeuNnLPgKs",
        "outputId": "eb89693a-2d5f-47ae-979c-685894c1b12a"
      },
      "execution_count": 35,
      "outputs": [
        {
          "output_type": "stream",
          "name": "stdout",
          "text": [
            "數值1~100中,所有是3或7倍數的數之總和=2208\n"
          ]
        }
      ]
    },
    {
      "cell_type": "code",
      "source": [
        "n=int(input(\"請輸入正整數:\"))\n",
        "for i in range(1,n+1):\n",
        "  if n%i==0:\n",
        "    print(\"%d的因數有%d\"%(n,i))\n",
        "for i in range(2,n):\n",
        "  if n%i==0:\n",
        "    print(str(n)+\"不是質數\")\n",
        "    break\n",
        "else:\n",
        "  print(str(n)+\"是質數\")"
      ],
      "metadata": {
        "colab": {
          "base_uri": "https://localhost:8080/"
        },
        "id": "WnSikgKDX2zd",
        "outputId": "83fa93c2-b2b9-4684-8893-4b7d6b9afd82"
      },
      "execution_count": 57,
      "outputs": [
        {
          "output_type": "stream",
          "name": "stdout",
          "text": [
            "請輸入正整數:11\n",
            "11的因數有1\n",
            "11的因數有11\n",
            "11是質數\n"
          ]
        }
      ]
    }
  ]
}