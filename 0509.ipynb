{
  "nbformat": 4,
  "nbformat_minor": 0,
  "metadata": {
    "colab": {
      "name": "0509.ipynb",
      "provenance": [],
      "authorship_tag": "ABX9TyP93Kd+NOZ1hmQdYK9coPKN",
      "include_colab_link": true
    },
    "kernelspec": {
      "name": "python3",
      "display_name": "Python 3"
    },
    "language_info": {
      "name": "python"
    }
  },
  "cells": [
    {
      "cell_type": "markdown",
      "metadata": {
        "id": "view-in-github",
        "colab_type": "text"
      },
      "source": [
        "<a href=\"https://colab.research.google.com/github/410568108/Introduction-to-Computers/blob/main/0509.ipynb\" target=\"_parent\"><img src=\"https://colab.research.google.com/assets/colab-badge.svg\" alt=\"Open In Colab\"/></a>"
      ]
    },
    {
      "cell_type": "code",
      "execution_count": 10,
      "metadata": {
        "colab": {
          "base_uri": "https://localhost:8080/"
        },
        "id": "A7WfFLON9Dnw",
        "outputId": "43f63b35-8df8-4812-a0f3-e5186235ee6d"
      },
      "outputs": [
        {
          "output_type": "stream",
          "name": "stdout",
          "text": [
            "請輸入你的體溫:36.9\n",
            "體溫正常\n"
          ]
        }
      ],
      "source": [
        "n=float(input(\"請輸入你的體溫:\")) \n",
        "if n>=37.5 :\n",
        "  print(\"體溫過高!\")\n",
        "elif n>=37 and n<=37.4:\n",
        "  print(\"體溫略高\")\n",
        "elif n>=34 and n<=36.9:\n",
        "  print(\"體溫正常\")\n",
        "else:\n",
        "  print(\"體溫異常,請重新量測\")"
      ]
    },
    {
      "cell_type": "code",
      "source": [
        "n=int(input(\"請輸入你的成績:\")) \n",
        "if n>=90 :\n",
        "  print(\"A\")\n",
        "elif n>=80:\n",
        "  print(\"B\")\n",
        "elif n>=70:\n",
        "  print(\"C\")\n",
        "elif n>=60:\n",
        "  print(\"D\")\n",
        "else:\n",
        "  print(\"E\")"
      ],
      "metadata": {
        "colab": {
          "base_uri": "https://localhost:8080/"
        },
        "id": "Y4bQ4ec5_m7X",
        "outputId": "1ffc2fe3-780b-4811-879f-7b4391a01668"
      },
      "execution_count": 18,
      "outputs": [
        {
          "output_type": "stream",
          "name": "stdout",
          "text": [
            "請輸入你的成績:80\n",
            "B\n"
          ]
        }
      ]
    },
    {
      "cell_type": "code",
      "source": [
        "n=int(input(\"請輸入購物金額:\"))\n",
        "if (n>=10000):\n",
        "  if (n>=100000):\n",
        "    print(\"八折\",n*0.8,end=\"元\\n\")\n",
        "  elif (n>=50000):\n",
        "    print(\"八五折\",n*0.85,end=\"元\\n\")\n",
        "  elif (n>=30000):\n",
        "    print(\"九折\",n*0.9,end=\"元\\n\")\n",
        "  else:\n",
        "    print(\"九五折\",n*0.95,end=\"元\\n\")\n",
        "else:\n",
        "  print(\"沒打折\",n,end=\"元\\n\")"
      ],
      "metadata": {
        "colab": {
          "base_uri": "https://localhost:8080/"
        },
        "id": "tQsALGuBE7Xa",
        "outputId": "d884af48-9e8a-4bef-9694-4a22907f6a59"
      },
      "execution_count": 20,
      "outputs": [
        {
          "output_type": "stream",
          "name": "stdout",
          "text": [
            "請輸入購物金額:60000\n",
            "八五折 51000.0元\n"
          ]
        }
      ]
    },
    {
      "cell_type": "code",
      "source": [
        "n=int(input(\"請輸入月份:\")) \n",
        "if n>=1 and n<=12:\n",
        "  if n>=6 and n<=8:\n",
        "    print(\"夏天!\")\n",
        "  elif n>=9 and n<=11:\n",
        "    print(\"秋天!\")\n",
        "  elif n>=3 and n<=5:\n",
        "    print(\"春天!\")\n",
        "  else:\n",
        "    print(\"冬天!\")\n",
        "else:\n",
        "  print(\"月份不在範圍內!\")"
      ],
      "metadata": {
        "colab": {
          "base_uri": "https://localhost:8080/"
        },
        "id": "JoorwCS5IB_H",
        "outputId": "86903a4f-37ed-4990-db53-1bbc4a229ea1"
      },
      "execution_count": 118,
      "outputs": [
        {
          "output_type": "stream",
          "name": "stdout",
          "text": [
            "請輸入月份:12\n",
            "冬天!\n"
          ]
        }
      ]
    },
    {
      "cell_type": "code",
      "source": [
        "n=int(input(\"請輸入今年收入淨額:\"))\n",
        "if (n>=300000):\n",
        "  if (n>=2000000):\n",
        "    print(\"付稅金額:\",n*0.3,end=\"元\\n\")\n",
        "  elif (n>=1000000):\n",
        "    print(\"付稅金額:\",n*0.21,end=\"元\\n\")\n",
        "  elif (n>=600000):\n",
        "    print(\"付稅金額:\",n*0.13,end=\"元\\n\")\n",
        "  else:\n",
        "    print(\"付稅金額:\",n*0.06,end=\"元\\n\")\n",
        "else:\n",
        "  print(\"付稅金額:\",n*0,end=\"元\\n\")"
      ],
      "metadata": {
        "colab": {
          "base_uri": "https://localhost:8080/"
        },
        "id": "x3wCdla_PB-_",
        "outputId": "b586b530-5060-4536-9359-e6cd80b1279c"
      },
      "execution_count": 57,
      "outputs": [
        {
          "output_type": "stream",
          "name": "stdout",
          "text": [
            "請輸入今年收入淨額:300000\n",
            "付稅金額: 18000.0元\n"
          ]
        }
      ]
    }
  ]
}