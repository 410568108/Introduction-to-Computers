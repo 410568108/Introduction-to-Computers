{
  "nbformat": 4,
  "nbformat_minor": 0,
  "metadata": {
    "colab": {
      "name": "0516.ipynb",
      "provenance": [],
      "authorship_tag": "ABX9TyMSuwGaXgAqT98RJy8jjlvH",
      "include_colab_link": true
    },
    "kernelspec": {
      "name": "python3",
      "display_name": "Python 3"
    },
    "language_info": {
      "name": "python"
    }
  },
  "cells": [
    {
      "cell_type": "markdown",
      "metadata": {
        "id": "view-in-github",
        "colab_type": "text"
      },
      "source": [
        "<a href=\"https://colab.research.google.com/github/410568108/Introduction-to-Computers/blob/main/0516.ipynb\" target=\"_parent\"><img src=\"https://colab.research.google.com/assets/colab-badge.svg\" alt=\"Open In Colab\"/></a>"
      ]
    },
    {
      "cell_type": "code",
      "execution_count": null,
      "metadata": {
        "id": "-3slCzFs7o84"
      },
      "outputs": [],
      "source": [
        "i=range(5)"
      ]
    },
    {
      "cell_type": "code",
      "source": [
        "print(type(i))"
      ],
      "metadata": {
        "colab": {
          "base_uri": "https://localhost:8080/"
        },
        "id": "ANYksXPh9bgb",
        "outputId": "b5f286ed-864e-4c4a-898d-326e16a27f4c"
      },
      "execution_count": null,
      "outputs": [
        {
          "output_type": "stream",
          "name": "stdout",
          "text": [
            "<class 'range'>\n"
          ]
        }
      ]
    },
    {
      "cell_type": "code",
      "source": [
        "print(i)"
      ],
      "metadata": {
        "colab": {
          "base_uri": "https://localhost:8080/"
        },
        "id": "HQn2Ob-t9tCE",
        "outputId": "d76906ba-8dfa-4d46-9936-bdce090fdc1a"
      },
      "execution_count": null,
      "outputs": [
        {
          "output_type": "stream",
          "name": "stdout",
          "text": [
            "range(0, 5)\n"
          ]
        }
      ]
    },
    {
      "cell_type": "code",
      "source": [
        "print(list(i))"
      ],
      "metadata": {
        "colab": {
          "base_uri": "https://localhost:8080/"
        },
        "id": "y_Bj-5kp-ECQ",
        "outputId": "765dcf3f-f322-4e43-8dfd-02941eff4e77"
      },
      "execution_count": null,
      "outputs": [
        {
          "output_type": "stream",
          "name": "stdout",
          "text": [
            "[0, 1, 2, 3, 4]\n"
          ]
        }
      ]
    },
    {
      "cell_type": "code",
      "source": [
        "a=range(3,8)\n",
        "print(list(a))"
      ],
      "metadata": {
        "colab": {
          "base_uri": "https://localhost:8080/"
        },
        "id": "WVgBMlUI-TAP",
        "outputId": "9b71723d-2cab-49c7-be9a-2c74244be4ff"
      },
      "execution_count": null,
      "outputs": [
        {
          "output_type": "stream",
          "name": "stdout",
          "text": [
            "[3, 4, 5, 6, 7]\n"
          ]
        }
      ]
    },
    {
      "cell_type": "code",
      "source": [
        "b=range(-2,4)\n",
        "print(list(b))"
      ],
      "metadata": {
        "colab": {
          "base_uri": "https://localhost:8080/"
        },
        "id": "tcgKNMRJ-Vuk",
        "outputId": "ee0fcb37-4f28-4fc0-938d-295da6872bc4"
      },
      "execution_count": null,
      "outputs": [
        {
          "output_type": "stream",
          "name": "stdout",
          "text": [
            "[-2, -1, 0, 1, 2, 3]\n"
          ]
        }
      ]
    },
    {
      "cell_type": "code",
      "source": [
        "c=range(3,8,1)\n",
        "print(list(c))"
      ],
      "metadata": {
        "colab": {
          "base_uri": "https://localhost:8080/"
        },
        "id": "Ga7EA3qT_ikF",
        "outputId": "011a53fb-b14d-4e4d-f968-5e9efdb1ca6d"
      },
      "execution_count": null,
      "outputs": [
        {
          "output_type": "stream",
          "name": "stdout",
          "text": [
            "[3, 4, 5, 6, 7]\n"
          ]
        }
      ]
    },
    {
      "cell_type": "code",
      "source": [
        "d=range(3,8,2)\n",
        "print(list(d))"
      ],
      "metadata": {
        "colab": {
          "base_uri": "https://localhost:8080/"
        },
        "id": "NZvZ6vZA_i7T",
        "outputId": "7834a08d-dbba-4a17-c35d-df3e7af0c165"
      },
      "execution_count": null,
      "outputs": [
        {
          "output_type": "stream",
          "name": "stdout",
          "text": [
            "[3, 5, 7]\n"
          ]
        }
      ]
    },
    {
      "cell_type": "code",
      "source": [
        "e=range(8,3,-1)\n",
        "print(list(e))"
      ],
      "metadata": {
        "colab": {
          "base_uri": "https://localhost:8080/"
        },
        "id": "AmwA42qk_jPw",
        "outputId": "0807d808-25d4-4750-af18-1cbd08b0d68f"
      },
      "execution_count": null,
      "outputs": [
        {
          "output_type": "stream",
          "name": "stdout",
          "text": [
            "[8, 7, 6, 5, 4]\n"
          ]
        }
      ]
    },
    {
      "cell_type": "code",
      "source": [
        "f=range(0,9)\n",
        "print(list(f))"
      ],
      "metadata": {
        "colab": {
          "base_uri": "https://localhost:8080/"
        },
        "id": "EXFVIRXPBdxi",
        "outputId": "5dafd025-1827-4cee-93bd-f58f487c0f26"
      },
      "execution_count": null,
      "outputs": [
        {
          "output_type": "stream",
          "name": "stdout",
          "text": [
            "[0, 1, 2, 3, 4, 5, 6, 7, 8]\n"
          ]
        }
      ]
    },
    {
      "cell_type": "code",
      "source": [
        "g=range(1,10)\n",
        "print(list(g))"
      ],
      "metadata": {
        "colab": {
          "base_uri": "https://localhost:8080/"
        },
        "id": "zLAGeI-6Begm",
        "outputId": "1463fcca-7b29-4a20-a4bf-5b7964e670d6"
      },
      "execution_count": null,
      "outputs": [
        {
          "output_type": "stream",
          "name": "stdout",
          "text": [
            "[1, 2, 3, 4, 5, 6, 7, 8, 9]\n"
          ]
        }
      ]
    },
    {
      "cell_type": "code",
      "source": [
        "h=range(1,10,2)\n",
        "print(list(h))"
      ],
      "metadata": {
        "colab": {
          "base_uri": "https://localhost:8080/"
        },
        "id": "5sMZGKTrBfIN",
        "outputId": "6c9a286a-b6f2-41f9-d9a6-57d9a2304907"
      },
      "execution_count": null,
      "outputs": [
        {
          "output_type": "stream",
          "name": "stdout",
          "text": [
            "[1, 3, 5, 7, 9]\n"
          ]
        }
      ]
    },
    {
      "cell_type": "code",
      "source": [
        "i=range(10,1,-2)\n",
        "print(list(i))"
      ],
      "metadata": {
        "colab": {
          "base_uri": "https://localhost:8080/"
        },
        "id": "wVaJYDAgBf4D",
        "outputId": "9ba9b15c-126a-4c03-9d75-51d49c1f8b1c"
      },
      "execution_count": null,
      "outputs": [
        {
          "output_type": "stream",
          "name": "stdout",
          "text": [
            "[10, 8, 6, 4, 2]\n"
          ]
        }
      ]
    },
    {
      "cell_type": "code",
      "source": [
        "for n in range(3):\n",
        "  print(n)"
      ],
      "metadata": {
        "colab": {
          "base_uri": "https://localhost:8080/"
        },
        "id": "cg8OS0uhC5e9",
        "outputId": "6541047f-4629-474b-e6b3-c9e2f0070768"
      },
      "execution_count": null,
      "outputs": [
        {
          "output_type": "stream",
          "name": "stdout",
          "text": [
            "0\n",
            "1\n",
            "2\n"
          ]
        }
      ]
    },
    {
      "cell_type": "code",
      "source": [
        "for n in range(10):\n",
        "  print(n,end=\",\")"
      ],
      "metadata": {
        "colab": {
          "base_uri": "https://localhost:8080/"
        },
        "id": "2jtOYmFpC54F",
        "outputId": "4ed108f1-e79b-42af-98b6-91db3b4ad8f9"
      },
      "execution_count": null,
      "outputs": [
        {
          "output_type": "stream",
          "name": "stdout",
          "text": [
            "0,1,2,3,4,5,6,7,8,9,"
          ]
        }
      ]
    },
    {
      "cell_type": "code",
      "source": [
        "for n in range(0,12,2):\n",
        "  print(n,end=\",\")"
      ],
      "metadata": {
        "colab": {
          "base_uri": "https://localhost:8080/"
        },
        "id": "sRTOztVzC6Lp",
        "outputId": "83d4d147-586f-4e09-fe10-86e1cd219433"
      },
      "execution_count": null,
      "outputs": [
        {
          "output_type": "stream",
          "name": "stdout",
          "text": [
            "0,2,4,6,8,10,"
          ]
        }
      ]
    },
    {
      "cell_type": "code",
      "source": [
        "for n in range(6):\n",
        "  print(n,end=\"\")"
      ],
      "metadata": {
        "colab": {
          "base_uri": "https://localhost:8080/"
        },
        "id": "SQ6qu6rgIh7_",
        "outputId": "dc9ef2cf-0b64-4791-baf9-70ae7dccea06"
      },
      "execution_count": null,
      "outputs": [
        {
          "output_type": "stream",
          "name": "stdout",
          "text": [
            "012345"
          ]
        }
      ]
    },
    {
      "cell_type": "code",
      "source": [
        "for n in range(13):\n",
        "  print(n,end=\",\")"
      ],
      "metadata": {
        "colab": {
          "base_uri": "https://localhost:8080/"
        },
        "id": "mDj2mdpzIqrv",
        "outputId": "c79d6a04-c00b-4e02-fa4a-c7ada6757fc5"
      },
      "execution_count": null,
      "outputs": [
        {
          "output_type": "stream",
          "name": "stdout",
          "text": [
            "0,1,2,3,4,5,6,7,8,9,10,11,12,"
          ]
        }
      ]
    },
    {
      "cell_type": "code",
      "source": [
        "sum=0\n",
        "for n in range(10,1,-2):\n",
        "  sum = sum+n\n",
        "print(sum)"
      ],
      "metadata": {
        "colab": {
          "base_uri": "https://localhost:8080/"
        },
        "id": "Sfm8caDdJpWc",
        "outputId": "fb33441c-7c96-4f01-cdea-6a1033542980"
      },
      "execution_count": null,
      "outputs": [
        {
          "output_type": "stream",
          "name": "stdout",
          "text": [
            "30\n"
          ]
        }
      ]
    },
    {
      "cell_type": "code",
      "source": [
        "sum=0\n",
        "t=int(input(\"請輸入一個正整數\"))\n",
        "for n in range(1,t+1):\n",
        "  sum = sum+n\n",
        "print(\"1到\",t,\"的整數和為\",sum)"
      ],
      "metadata": {
        "id": "2o5x8moRZQl5",
        "outputId": "3bae0b4d-cdd7-47b3-c5b3-dde4a8cc5541",
        "colab": {
          "base_uri": "https://localhost:8080/"
        }
      },
      "execution_count": 2,
      "outputs": [
        {
          "output_type": "stream",
          "name": "stdout",
          "text": [
            "請輸入一個正整數10\n",
            "1到 10 的整數和為 55\n"
          ]
        }
      ]
    },
    {
      "cell_type": "code",
      "source": [
        "sum=0\n",
        "t=int(input(\"請輸入一個正整數\"))\n",
        "for n in range(1,t+1):\n",
        "  sum = sum+n\n",
        "print(\"1到\",t,\"的整數和為\",sum)"
      ],
      "metadata": {
        "colab": {
          "base_uri": "https://localhost:8080/"
        },
        "id": "pPC87K9_NTur",
        "outputId": "4c2fe9d3-d394-422a-fa69-df14c4181e9d"
      },
      "execution_count": 1,
      "outputs": [
        {
          "output_type": "stream",
          "name": "stdout",
          "text": [
            "請輸入一個正整數50\n",
            "1到 50 的整數和為 1275\n"
          ]
        }
      ]
    },
    {
      "cell_type": "code",
      "source": [
        "um=0\n",
        "t=int(input(\"請輸入一個正整數\"))\n",
        "for m in range(1,t+1):\n",
        "  sum = sum+m\n",
        "  print(\"1到\",str(m),\"的整數和為\",sum)"
      ],
      "metadata": {
        "colab": {
          "base_uri": "https://localhost:8080/"
        },
        "id": "XIPlEXDAMiuT",
        "outputId": "04ab56f5-25cb-4b4c-ddbb-99ee542e0f2d"
      },
      "execution_count": 3,
      "outputs": [
        {
          "output_type": "stream",
          "name": "stdout",
          "text": [
            "請輸入一個正整數50\n",
            "1到 1 的整數和為 56\n",
            "1到 2 的整數和為 58\n",
            "1到 3 的整數和為 61\n",
            "1到 4 的整數和為 65\n",
            "1到 5 的整數和為 70\n",
            "1到 6 的整數和為 76\n",
            "1到 7 的整數和為 83\n",
            "1到 8 的整數和為 91\n",
            "1到 9 的整數和為 100\n",
            "1到 10 的整數和為 110\n",
            "1到 11 的整數和為 121\n",
            "1到 12 的整數和為 133\n",
            "1到 13 的整數和為 146\n",
            "1到 14 的整數和為 160\n",
            "1到 15 的整數和為 175\n",
            "1到 16 的整數和為 191\n",
            "1到 17 的整數和為 208\n",
            "1到 18 的整數和為 226\n",
            "1到 19 的整數和為 245\n",
            "1到 20 的整數和為 265\n",
            "1到 21 的整數和為 286\n",
            "1到 22 的整數和為 308\n",
            "1到 23 的整數和為 331\n",
            "1到 24 的整數和為 355\n",
            "1到 25 的整數和為 380\n",
            "1到 26 的整數和為 406\n",
            "1到 27 的整數和為 433\n",
            "1到 28 的整數和為 461\n",
            "1到 29 的整數和為 490\n",
            "1到 30 的整數和為 520\n",
            "1到 31 的整數和為 551\n",
            "1到 32 的整數和為 583\n",
            "1到 33 的整數和為 616\n",
            "1到 34 的整數和為 650\n",
            "1到 35 的整數和為 685\n",
            "1到 36 的整數和為 721\n",
            "1到 37 的整數和為 758\n",
            "1到 38 的整數和為 796\n",
            "1到 39 的整數和為 835\n",
            "1到 40 的整數和為 875\n",
            "1到 41 的整數和為 916\n",
            "1到 42 的整數和為 958\n",
            "1到 43 的整數和為 1001\n",
            "1到 44 的整數和為 1045\n",
            "1到 45 的整數和為 1090\n",
            "1到 46 的整數和為 1136\n",
            "1到 47 的整數和為 1183\n",
            "1到 48 的整數和為 1231\n",
            "1到 49 的整數和為 1280\n",
            "1到 50 的整數和為 1330\n"
          ]
        }
      ]
    }
  ]
}